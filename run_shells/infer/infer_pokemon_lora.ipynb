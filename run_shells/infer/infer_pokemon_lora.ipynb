{
 "cells": [
  {
   "cell_type": "code",
   "execution_count": 1,
   "metadata": {},
   "outputs": [
    {
     "name": "stderr",
     "output_type": "stream",
     "text": [
      "/home/huangjiahong.dracu/miniconda2/envs/diffusers/lib/python3.10/site-packages/transformers/models/clip/feature_extraction_clip.py:28: FutureWarning: The class CLIPFeatureExtractor is deprecated and will be removed in version 5 of Transformers. Please use CLIPImageProcessor instead.\n",
      "  warnings.warn(\n"
     ]
    }
   ],
   "source": [
    "import torch\n",
    "from diffusers import StableDiffusionPipeline, DPMSolverMultistepScheduler\n",
    "\n",
    "model_base = \"runwayml/stable-diffusion-v1-5\"\n",
    "\n",
    "pipe = StableDiffusionPipeline.from_pretrained(model_base, torch_dtype=torch.float16)\n",
    "pipe.scheduler = DPMSolverMultistepScheduler.from_config(pipe.scheduler.config)"
   ]
  },
  {
   "cell_type": "code",
   "execution_count": 2,
   "metadata": {},
   "outputs": [
    {
     "ename": "AttributeError",
     "evalue": "'NoneType' object has no attribute 'endswith'",
     "output_type": "error",
     "traceback": [
      "\u001b[0;31m---------------------------------------------------------------------------\u001b[0m",
      "\u001b[0;31mAttributeError\u001b[0m                            Traceback (most recent call last)",
      "Cell \u001b[0;32mIn[2], line 2\u001b[0m\n\u001b[1;32m      1\u001b[0m model_path\u001b[38;5;241m=\u001b[39m\u001b[38;5;124m\"\u001b[39m\u001b[38;5;124m/mnt/cephfs/hjh/train_record/images/text2image/lora/train_pokemon/sddata/finetune/lora/pokemon/checkpoint-4000\u001b[39m\u001b[38;5;124m\"\u001b[39m\n\u001b[0;32m----> 2\u001b[0m \u001b[43mpipe\u001b[49m\u001b[38;5;241;43m.\u001b[39;49m\u001b[43munet\u001b[49m\u001b[38;5;241;43m.\u001b[39;49m\u001b[43mload_attn_procs\u001b[49m\u001b[43m(\u001b[49m\u001b[43mmodel_path\u001b[49m\u001b[43m)\u001b[49m\n\u001b[1;32m      3\u001b[0m pipe\u001b[38;5;241m.\u001b[39mto(\u001b[38;5;124m\"\u001b[39m\u001b[38;5;124mcuda\u001b[39m\u001b[38;5;124m\"\u001b[39m)\n\u001b[1;32m      5\u001b[0m image \u001b[38;5;241m=\u001b[39m pipe(\n\u001b[1;32m      6\u001b[0m     \u001b[38;5;124m\"\u001b[39m\u001b[38;5;124mA pokemon with blue eyes.\u001b[39m\u001b[38;5;124m\"\u001b[39m, num_inference_steps\u001b[38;5;241m=\u001b[39m\u001b[38;5;241m25\u001b[39m, guidance_scale\u001b[38;5;241m=\u001b[39m\u001b[38;5;241m7.5\u001b[39m, cross_attention_kwargs\u001b[38;5;241m=\u001b[39m{\u001b[38;5;124m\"\u001b[39m\u001b[38;5;124mscale\u001b[39m\u001b[38;5;124m\"\u001b[39m: \u001b[38;5;241m0.5\u001b[39m}\n\u001b[1;32m      7\u001b[0m )\u001b[38;5;241m.\u001b[39mimages[\u001b[38;5;241m0\u001b[39m]\n",
      "File \u001b[0;32m~/miniconda2/envs/diffusers/lib/python3.10/site-packages/diffusers-0.15.0.dev0-py3.10.egg/diffusers/loaders.py:153\u001b[0m, in \u001b[0;36mUNet2DConditionLoadersMixin.load_attn_procs\u001b[0;34m(self, pretrained_model_name_or_path_or_dict, **kwargs)\u001b[0m\n\u001b[1;32m    151\u001b[0m model_file \u001b[38;5;241m=\u001b[39m \u001b[38;5;28;01mNone\u001b[39;00m\n\u001b[1;32m    152\u001b[0m \u001b[38;5;28;01mif\u001b[39;00m \u001b[38;5;129;01mnot\u001b[39;00m \u001b[38;5;28misinstance\u001b[39m(pretrained_model_name_or_path_or_dict, \u001b[38;5;28mdict\u001b[39m):\n\u001b[0;32m--> 153\u001b[0m     \u001b[38;5;28;01mif\u001b[39;00m (is_safetensors_available() \u001b[38;5;129;01mand\u001b[39;00m weight_name \u001b[38;5;129;01mis\u001b[39;00m \u001b[38;5;28;01mNone\u001b[39;00m) \u001b[38;5;129;01mor\u001b[39;00m \u001b[43mweight_name\u001b[49m\u001b[38;5;241;43m.\u001b[39;49m\u001b[43mendswith\u001b[49m(\u001b[38;5;124m\"\u001b[39m\u001b[38;5;124m.safetensors\u001b[39m\u001b[38;5;124m\"\u001b[39m):\n\u001b[1;32m    154\u001b[0m         \u001b[38;5;28;01mif\u001b[39;00m weight_name \u001b[38;5;129;01mis\u001b[39;00m \u001b[38;5;28;01mNone\u001b[39;00m:\n\u001b[1;32m    155\u001b[0m             weight_name \u001b[38;5;241m=\u001b[39m LORA_WEIGHT_NAME_SAFE\n",
      "\u001b[0;31mAttributeError\u001b[0m: 'NoneType' object has no attribute 'endswith'"
     ]
    }
   ],
   "source": [
    "model_path=\"/mnt/cephfs/hjh/train_record/images/text2image/lora/train_pokemon/sddata/finetune/lora/pokemon/checkpoint-4000\"\n",
    "pipe.unet.load_attn_procs(model_path)\n",
    "pipe.to(\"cuda\")\n",
    "\n",
    "image = pipe(\n",
    "    \"A pokemon with blue eyes.\", num_inference_steps=25, guidance_scale=7.5, cross_attention_kwargs={\"scale\": 0.5}\n",
    ").images[0]\n",
    "\n",
    "image = pipe(\"A pokemon with blue eyes.\", num_inference_steps=25, guidance_scale=7.5).images[0]\n",
    "image.save(\"/tmp/blue_pokemon.png\")\n",
    "print(\"done!\")"
   ]
  },
  {
   "cell_type": "code",
   "execution_count": null,
   "metadata": {},
   "outputs": [],
   "source": []
  }
 ],
 "metadata": {
  "kernelspec": {
   "display_name": "Python 3 (ipykernel)",
   "language": "python",
   "name": "python3"
  },
  "language_info": {
   "codemirror_mode": {
    "name": "ipython",
    "version": 3
   },
   "file_extension": ".py",
   "mimetype": "text/x-python",
   "name": "python",
   "nbconvert_exporter": "python",
   "pygments_lexer": "ipython3",
   "version": "3.10.9"
  }
 },
 "nbformat": 4,
 "nbformat_minor": 1
}
